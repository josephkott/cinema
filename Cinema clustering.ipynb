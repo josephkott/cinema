{
 "cells": [
  {
   "cell_type": "markdown",
   "metadata": {},
   "source": [
    "### Elaborate distance measure for cinema clustering (work in progress...)"
   ]
  },
  {
   "cell_type": "code",
   "execution_count": null,
   "metadata": {},
   "outputs": [],
   "source": [
    "def element_wise_distance(a, b):\n",
    "    if len(a) != len(b):\n",
    "        raise Exception('Sequences must have the same length.')\n",
    "        \n",
    "    m = a.count(1)\n",
    "    n = b.count(1)\n",
    "    \n",
    "    if n == 0:\n",
    "        return m\n",
    "    \n",
    "    if m == 0:\n",
    "        return n\n",
    "    \n",
    "    distance = 0    \n",
    "    for i, x in enumerate(a):\n",
    "        if x == 1:\n",
    "            one_element_distance = 0\n",
    "            for j, y in enumerate(b):\n",
    "                if y == 1:\n",
    "                    one_element_distance += (i - j)\n",
    "            distance += (one_element_distance / n)\n",
    "    \n",
    "    return abs(distance / m)\n",
    "\n",
    "\n",
    "def hamming_distance(a, b):\n",
    "    if len(a) != len(b):\n",
    "        raise Exception('Sequences must have the same length.')\n",
    "    \n",
    "    distance = 0\n",
    "    for x, y in zip(a, b):\n",
    "        distance += (x != y)\n",
    "    \n",
    "    return distance / a.count(1)\n",
    "\n",
    "\n",
    "def combined_distance(a, b):\n",
    "    if len(a) != len(b):\n",
    "        raise Exception('Sequences must have the same length.')\n",
    "    \n",
    "    n = len(a)\n",
    "    return 0.5 * (element_wise_distance(a, b) + hamming_distance(a, b))"
   ]
  },
  {
   "cell_type": "code",
   "execution_count": null,
   "metadata": {},
   "outputs": [],
   "source": [
    "# Tests\n",
    "a = [1, 1, 1, 0, 0, 0, 1, 1, 1]\n",
    "b = [0, 0, 1, 1, 1, 1, 0, 0, 0]\n",
    "\n",
    "print('Distance between: %s and %s = %.2f' % (str(a), str(b), combined_distance(a, b)))"
   ]
  },
  {
   "cell_type": "markdown",
   "metadata": {},
   "source": [
    "### Load data from PostgreSQL database"
   ]
  },
  {
   "cell_type": "code",
   "execution_count": 1,
   "metadata": {},
   "outputs": [
    {
     "name": "stdout",
     "output_type": "stream",
     "text": [
      "(84, 40, '', False, datetime.date(1929, 1, 4), datetime.date(1929, 1, 6), '', '4', '', '', 4, 'Рампа (Ленинград) - Одиннадцать чертей / Die Elf Teufel [Германия, 1927] 1929-01-04 - 1929-01-06', 3, 7)\n"
     ]
    }
   ],
   "source": [
    "import psycopg2\n",
    "import pandas as pd\n",
    "\n",
    "connection = psycopg2.connect(dbname='cinema', user='josephkott', password='')\n",
    "cursor = connection.cursor()\n",
    "\n",
    "# Test PostgreSQL connection\n",
    "cursor.execute('SELECT * FROM films_showing')\n",
    "print(cursor.fetchone())"
   ]
  },
  {
   "cell_type": "markdown",
   "metadata": {},
   "source": [
    "### Extract showings for all cinema"
   ]
  },
  {
   "cell_type": "code",
   "execution_count": 2,
   "metadata": {},
   "outputs": [
    {
     "name": "stdout",
     "output_type": "stream",
     "text": [
      "Cinema id: 3, name: Ампир\n"
     ]
    }
   ],
   "source": [
    "cursor.execute('SELECT id, name FROM films_cinema')\n",
    "id, name = cursor.fetchone()\n",
    "print('Cinema id: %d, name: %s' % (id, name))"
   ]
  },
  {
   "cell_type": "code",
   "execution_count": 3,
   "metadata": {},
   "outputs": [
    {
     "name": "stdout",
     "output_type": "stream",
     "text": [
      "Total amount of showings: 2117\n"
     ]
    }
   ],
   "source": [
    "cursor.execute('SELECT cinema_id, film_id, date_from, date_to FROM films_showing')\n",
    "showings = cursor.fetchall()\n",
    "print('Total amount of showings: %d' % len(showings))"
   ]
  },
  {
   "cell_type": "markdown",
   "metadata": {},
   "source": [
    "### Create cinama showings map"
   ]
  },
  {
   "cell_type": "code",
   "execution_count": 4,
   "metadata": {},
   "outputs": [],
   "source": [
    "class Showing:\n",
    "    def __init__(self, film_id, date_from, date_to):\n",
    "        self.film_id = film_id\n",
    "        self.date_from = date_from\n",
    "        self.date_to = date_to\n",
    "    \n",
    "    def convert(self):\n",
    "        pass\n",
    "    \n",
    "    def __repr__(self):\n",
    "        return '%s: %s - %s' % (\n",
    "            self.film_id,\n",
    "            self.date_from.strftime('%Y/%m/%d'),\n",
    "            self.date_to.strftime('%Y/%m/%d')\n",
    "        )"
   ]
  },
  {
   "cell_type": "code",
   "execution_count": 5,
   "metadata": {},
   "outputs": [],
   "source": [
    "cinema_showings = {}\n",
    "for showing in showings:\n",
    "    cinema_id, film_id, date_from, date_to = showing\n",
    "    cinema_showings.setdefault(cinema_id, [])\n",
    "    cinema_showings[cinema_id].append(Showing(film_id, date_from, date_to))"
   ]
  },
  {
   "cell_type": "markdown",
   "metadata": {},
   "source": [
    "### Compute distance between two cinemas"
   ]
  },
  {
   "cell_type": "code",
   "execution_count": 6,
   "metadata": {},
   "outputs": [],
   "source": [
    "def common_films_similarity(showings_a, showings_b):\n",
    "    films_a = {x.film_id for x in showings_a}\n",
    "    films_b = {x.film_id for x in showings_b}\n",
    "    \n",
    "    films_common = films_a.intersection(films_b)\n",
    "    similarity = len(films_common)\n",
    "    return similarity"
   ]
  },
  {
   "cell_type": "code",
   "execution_count": 8,
   "metadata": {},
   "outputs": [
    {
     "data": {
      "image/png": "[encoded data removed]",
      "text/plain": [
       "<Figure size 432x288 with 1 Axes>"
      ]
     },
     "metadata": {
      "needs_background": "light"
     },
     "output_type": "display_data"
    }
   ],
   "source": [
    "import numpy as np\n",
    "import matplotlib.pyplot as plt\n",
    "\n",
    "from sklearn import manifold\n",
    "from sklearn import decomposition\n",
    "\n",
    "ids = list(cinema_showings.keys())\n",
    "similarity_matrix = np.zeros((len(ids), len(ids)))\n",
    "\n",
    "for i, id_a in enumerate(cinema_showings):\n",
    "    for j, id_b in enumerate(cinema_showings):\n",
    "        if i == j:\n",
    "            similarity_matrix[i, j] = None\n",
    "        else:\n",
    "            similarity_matrix[i, j] = common_films_similarity(\n",
    "                cinema_showings[id_a],\n",
    "                cinema_showings[id_b]\n",
    "            )\n",
    "\n",
    "norm = similarity_matrix[~np.isnan(similarity_matrix)].max()\n",
    "distance_matrix = 1 - (similarity_matrix / norm)\n",
    "np.fill_diagonal(distance_matrix, 0)\n",
    "\n",
    "mds = manifold.MDS(n_components=2, dissimilarity='precomputed', max_iter=3000, eps=1e-9)\n",
    "pos = mds.fit_transform(distance_matrix)\n",
    "\n",
    "fig, ax = plt.subplots()\n",
    "ax.scatter(pos[:, 0], pos[:, 1], color='turquoise', label='MDS')\n",
    "\n",
    "for i, cinema_id in enumerate(ids):\n",
    "    ax.annotate(str(cinema_id), (pos[i, 0], pos[i, 1]))"
   ]
  }
 ],
 "metadata": {
  "kernelspec": {
   "display_name": "Python 3",
   "language": "python",
   "name": "python3"
  },
  "language_info": {
   "codemirror_mode": {
    "name": "ipython",
    "version": 3
   },
   "file_extension": ".py",
   "mimetype": "text/x-python",
   "name": "python",
   "nbconvert_exporter": "python",
   "pygments_lexer": "ipython3",
   "version": "3.7.4"
  }
 },
 "nbformat": 4,
 "nbformat_minor": 2
}
